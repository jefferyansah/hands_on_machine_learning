{
 "cells": [
  {
   "cell_type": "code",
   "execution_count": 1,
   "metadata": {},
   "outputs": [],
   "source": [
    "import pandas as pd\n",
    "import matplotlib\n",
    "import matplotlib.pyplot as plt\n",
    "import sklearn \n",
    "import numpy as np\n"
   ]
  },
  {
   "cell_type": "code",
   "execution_count": 2,
   "metadata": {
    "scrolled": true
   },
   "outputs": [],
   "source": [
    "oecd_bli = pd.read_csv('oecd_bli_2015.csv', thousands=',')\n",
    "gdp = pd.read_csv('gdp_per_capita.csv', encoding= 'latin1', thousands = ',', na_values=\"n/a\")\n",
    "oecd_bl_life_exp= oecd_bli[(oecd_bli['Indicator'] == 'Life satisfaction') & (oecd_bli['INEQUALITY'] == 'TOT')]\n",
    "oecd_bl_life_exp  = oecd_bl_life_exp[['Country', 'Indicator', 'Value']]\n",
    "life_exp_data = oecd_bl_life_exp.groupby('Country', as_index = False).agg({'Value':'mean'})\n",
    "gdp_data  = gdp[['Country', '2015']]\n",
    "joined_data  = gdp_data.merge(life_exp_data, left_on= 'Country', right_on= 'Country' )\n",
    "joined_data = joined_data.rename(columns = {'2015': 'GDP', 'Value':'Life_Satisfaction'} )"
   ]
  },
  {
   "cell_type": "code",
   "execution_count": 3,
   "metadata": {
    "scrolled": true
   },
   "outputs": [],
   "source": [
    "# import plotly.express as px\n",
    "# fig = px.scatter(x= joined_data['GDP'], y=joined_data['Life_Satisfaction'])\n",
    "# fig.show()\n",
    "# joined_data.plot(kind = 'scatter', x = 'GDP', y = 'Life_Satisfaction' )\n",
    "# plt.show()"
   ]
  },
  {
   "cell_type": "code",
   "execution_count": 26,
   "metadata": {},
   "outputs": [],
   "source": [
    "from sklearn.model_selection import train_test_split \n",
    "from sklearn.linear_model import LinearRegression\n",
    "X = joined_data['GDP'].values.reshape(-1,1)\n",
    "Y = joined_data['Life_Satisfaction'].values.reshape(-1,1)\n"
   ]
  },
  {
   "cell_type": "code",
   "execution_count": 30,
   "metadata": {},
   "outputs": [
    {
     "data": {
      "text/plain": [
       "array([[6.06507692]])"
      ]
     },
     "execution_count": 30,
     "metadata": {},
     "output_type": "execute_result"
    }
   ],
   "source": [
    "regressor = LinearRegression(n_jobs=3, normalize=True)  \n",
    "regressor.fit(X, Y)\n",
    "X_new = [[13032]]\n",
    "regressor.predict(X_new)"
   ]
  },
  {
   "cell_type": "code",
   "execution_count": null,
   "metadata": {},
   "outputs": [],
   "source": []
  },
  {
   "cell_type": "code",
   "execution_count": null,
   "metadata": {},
   "outputs": [],
   "source": []
  }
 ],
 "metadata": {
  "kernelspec": {
   "display_name": "python3.5",
   "language": "python",
   "name": "python3.5"
  },
  "language_info": {
   "codemirror_mode": {
    "name": "ipython",
    "version": 3
   },
   "file_extension": ".py",
   "mimetype": "text/x-python",
   "name": "python",
   "nbconvert_exporter": "python",
   "pygments_lexer": "ipython3",
   "version": "3.5.5"
  },
  "latex_envs": {
   "LaTeX_envs_menu_present": true,
   "autoclose": false,
   "autocomplete": true,
   "bibliofile": "biblio.bib",
   "cite_by": "apalike",
   "current_citInitial": 1,
   "eqLabelWithNumbers": true,
   "eqNumInitial": 1,
   "hotkeys": {
    "equation": "Ctrl-E",
    "itemize": "Ctrl-I"
   },
   "labels_anchors": false,
   "latex_user_defs": false,
   "report_style_numbering": false,
   "user_envs_cfg": false
  }
 },
 "nbformat": 4,
 "nbformat_minor": 2
}
